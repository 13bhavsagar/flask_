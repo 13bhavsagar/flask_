{
 "cells": [
  {
   "cell_type": "markdown",
   "id": "9234a30d",
   "metadata": {},
   "source": [
    "1.What is a RESTful API?\n",
    "\n",
    ">A RESTful API (Representational State Transfer API) is a web service that follows the REST architectural style, allowing systems to        communicate over HTTP using a standardized set of rules."
   ]
  },
  {
   "cell_type": "markdown",
   "id": "b3a152f9",
   "metadata": {},
   "source": [
    "2.Explain the concept of API specification.\n",
    "\n",
    ">An API specification is a detailed, formal blueprint that defines how an API behaves—what it does, how to use it, what to expect, and how it communicates.it serves as a contract between the frontend (client) and backend (server), ensuring both sides know:\n",
    "\n",
    ">.What endpoints are available?\n",
    "\n",
    ">.What data should be sent/received?\n",
    "\n",
    ">.What formats and methods are allowed?\n",
    "\n",
    ">.What errors might occur?"
   ]
  },
  {
   "cell_type": "markdown",
   "id": "90c76ef8",
   "metadata": {},
   "source": [
    "3.What is Flask, and why is it popular for building APIs?\n",
    "\n",
    ">Flask is a lightweight and flexible web framework written in Python, widely used for building web applications and APIs. It is based on the WSGI (Web Server Gateway Interface) standard and provides the essentials to get a web server running, without imposing a particular project structure or requiring heavy dependencies.Flask is especially popular for building APIs because of its simplicity, minimalism, and extensibility. It allows developers to create RESTful APIs quickly using just a few lines of code, while also giving the flexibility to scale and customize the application as needed. Features like built-in routing, JSON support, and easy integration with libraries such as SQLAlchemy, Marshmallow, and Flask-RESTful make it a favorite among developers for both small projects and large-scale microservices. Its excellent documentation and large community support further contribute to its popularity in API development."
   ]
  },
  {
   "cell_type": "markdown",
   "id": "c000b705",
   "metadata": {},
   "source": [
    "4.What is routing in Flask?\n",
    ">Routing in Flask refers to the mechanism of mapping URLs to specific Python functions, called view functions. When a user visits a URL in a browser or makes an HTTP request to your Flask app, Flask uses routing to determine which function should handle that request.\n"
   ]
  },
  {
   "cell_type": "markdown",
   "id": "13aa4177",
   "metadata": {},
   "source": [
    "5.How do you create a simple Flask application?\n",
    ">Creating a simple Flask application involves setting up a web server that listens for HTTP requests and returns responses. Flask provides a minimal and flexible framework that lets you map URLs (routes) to Python functions (view functions). When a user visits a specific URL, Flask routes the request to the corresponding function, which processes the request and returns content—such as text, HTML, or JSON.At its core, a Flask app consists of:\n",
    "\n",
    ">>An application instance: This is the main object representing your web app.\n",
    "\n",
    ">>Routing definitions: Using decorators, you define which URLs trigger which functions.\n",
    "\n",
    ">>View functions: Functions that handle requests and return responses.\n",
    "\n",
    ">>A server loop: Flask runs a lightweight development server that listens for requests and dispatches them according to the routing rules."
   ]
  },
  {
   "cell_type": "markdown",
   "id": "59f64383",
   "metadata": {},
   "source": [
    "6.What are HTTP methods used in RESTful APIs?\n",
    ">In RESTful APIs, HTTP methods define the actions clients can perform on resources. The most commonly used methods are GET, POST, PUT, PATCH, and DELETE.\n",
    "\n",
    ">GET is used to retrieve data from the server without modifying it. It’s the method behind reading or fetching resources, such as getting a user’s details or listing products. \n",
    "\n",
    ">POST is used to create new resources by sending data to the server, like adding a new user or submitting a form. When you want to update an entire existing resource.\n",
    "\n",
    ">you use PUT, which replaces the resource with the new data you provide. For partial updates—changing just a few fields without replacing the whole resource—PATCH is the preferred method.\n",
    "\n",
    ">DELETE removes a resource from the server, such as deleting a user account or removing an item from a catalog."
   ]
  },
  {
   "cell_type": "markdown",
   "id": "159414bc",
   "metadata": {},
   "source": [
    "7.What is the purpose of the @app.route() decorator in Flask?\n",
    ">The @app.route() decorator in Flask is used to define URL routes and map them to specific Python functions called view functions. Its main purpose is to tell Flask which function should handle requests for a given URL path.When a user visits a particular URL or makes an HTTP request, Flask looks for a matching route defined by @app.route() and then calls the associated function to generate a response. This decorator is essential for creating the endpoints of your web application or API, enabling you to build dynamic web pages or serve data based on the requested URL.\n"
   ]
  },
  {
   "cell_type": "markdown",
   "id": "3e5dd87a",
   "metadata": {},
   "source": [
    "8.What is the difference between GET and POST HTTP methods?\n",
    ">GET is used to retrieve data from a server. When a client sends a GET request, it asks the server to fetch and return information without making any changes. GET requests can include query parameters in the URL, and they are generally considered safe and idempotent, meaning they don’t modify data and can be repeated without side effects. For example, fetching a user profile or listing products uses GET.\n",
    "\n",
    ">POST, on the other hand, is used to send data to the server to create or process a resource. POST requests include data in the request body and usually result in a change on the server, like creating a new user, submitting a form, or uploading a file. Unlike GET, POST requests are not idempotent—sending the same POST request multiple times can create multiple resources or trigger repeated actions."
   ]
  },
  {
   "cell_type": "markdown",
   "id": "ae0fc184",
   "metadata": {},
   "source": [
    "9.How do you handle errors in Flask APIs?\n",
    ">Flask APIs involves intercepting situations where the application cannot fulfill a client’s request as expected, and then returning clear, informative responses. Flask provides mechanisms to catch errors—such as missing resources or server failures—and map them to appropriate HTTP status codes like 404 (Not Found) or 500 (Internal Server Error). By defining error handlers, developers can customize these responses, often returning structured JSON messages that clients can understand and act upon. Additionally, Flask allows developers to explicitly trigger errors when certain conditions aren’t met, helping maintain robust and predictable API behavior. Overall, proper error handling in Flask ensures that APIs communicate problems gracefully, improving client experience and aiding debugging."
   ]
  },
  {
   "cell_type": "markdown",
   "id": "5f102d79",
   "metadata": {},
   "source": [
    "10.How do you connect Flask to a SQL database?\n",
    ">Connecting Flask to a SQL database means establishing a bridge between your web application and the database so that your app can store, retrieve, update, and delete data dynamically. Flask itself doesn’t directly handle database communication, but through extensions like SQLAlchemy, it gains the ability to translate Python objects into database rows and vice versa. This abstraction simplifies database operations, allows for cleaner code, and supports multiple database backends by just changing configuration. The connection process involves configuring the app with database credentials, defining data models representing tables, and managing sessions that handle transactions safely."
   ]
  },
  {
   "cell_type": "markdown",
   "id": "a3114a16",
   "metadata": {},
   "source": [
    "11.What is the role of Flask-SQLAlchemy?\n",
    ">Flask-SQLAlchemy is a Flask extension that integrates the SQLAlchemy ORM with Flask applications. It simplifies database configuration and connection management within Flask. Developers define Python classes as models representing database tables. It handles sessions and transactions automatically, making CRUD operations easier. Overall, it streamlines working with SQL databases in Flask by combining Flask’s simplicity with SQLAlchemy’s power."
   ]
  },
  {
   "cell_type": "markdown",
   "id": "93741ab8",
   "metadata": {},
   "source": [
    "12.What are Flask blueprints, and how are they useful?\n",
    ">Flask Blueprints are a way to organize and modularize a Flask application by grouping related routes, templates, and static files into reusable components. They let you break a large app into smaller, manageable pieces, making code easier to maintain and scale. Blueprints allow registering routes and handlers separately, then integrate them into the main app. This is especially useful for structuring complex projects or building reusable modules. Overall, blueprints help keep Flask apps clean, organized, and modular."
   ]
  },
  {
   "cell_type": "markdown",
   "id": "41308fad",
   "metadata": {},
   "source": [
    "13.What is the purpose of Flask's request object?\n",
    ">Flask’s request object represents the incoming HTTP request from the client. Its purpose is to provide easy access to all the data sent by the client, such as URL parameters, form data, JSON payloads, headers, cookies, and files. It lets your Flask app inspect and handle user input, enabling dynamic responses based on the request content. Essentially, the request object is how Flask reads what the client is asking or sending."
   ]
  },
  {
   "cell_type": "markdown",
   "id": "d8ae9dad",
   "metadata": {},
   "source": [
    "14.How do you create a RESTful API endpoint using Flask?\n",
    ">To create a RESTful API endpoint in Flask, you follow these steps:\n",
    "\n",
    ">>Import Flask and necessary modules\n",
    "\n",
    ">>Create a Flask app instance\n",
    "\n",
    ">>Define a route with @app.route() specifying the URL and HTTP methods\n",
    "\n",
    ">>Write a view function that processes the request and returns a response (usually JSON)\n",
    "\n",
    ">>Run the Flask app"
   ]
  },
  {
   "cell_type": "markdown",
   "id": "14552c87",
   "metadata": {},
   "source": [
    "15.What is the purpose of Flask's jsonify() function?\n",
    ">Flask’s jsonify() function is used to convert Python data structures (like dictionaries or lists) into JSON format and create a proper HTTP response with the correct Content-Type header (application/json). It makes it easy to return JSON responses from your API endpoints, ensuring the client receives data in a standardized, machine-readable format. Essentially, jsonify() handles serialization and response formatting in one step."
   ]
  },
  {
   "cell_type": "markdown",
   "id": "0407f02a",
   "metadata": {},
   "source": [
    "16.Explain Flask’s url_for() function?\n",
    ">Flask’s url_for() function generates a URL for a given view function name dynamically. Instead of hardcoding URLs, you use url_for() to build links based on the function that handles a route, which makes your code more flexible and maintainable. It can also accept arguments to fill in variable parts of the URL or add query parameters. This ensures URLs stay consistent even if routes change, helping avoid broken links in your app."
   ]
  },
  {
   "cell_type": "markdown",
   "id": "a1c9f09b",
   "metadata": {},
   "source": [
    "17.How does Flask handle static files (CSS, JavaScript, etc.)?\n",
    ">Flask handles static files like CSS, JavaScript, and images by serving them from a special folder named static in your project directory. By default, any file placed inside this static folder is accessible via the URL path /static/filename. For example, a CSS file at static/style.css can be referenced in your HTML as /static/style.css. Flask automatically routes requests to this folder without you needing to write extra code, making it easy to include and serve frontend assets alongside your web app."
   ]
  },
  {
   "cell_type": "markdown",
   "id": "de200510",
   "metadata": {},
   "source": [
    "18.What is an API specification, and how does it help in building a Flask API?\n",
    ">An API specification is a formal, structured document that describes how an API works — detailing its endpoints, request methods, parameters, data formats, authentication, and expected responses. It acts as a blueprint or contract between the API provider and consumers, ensuring everyone understands how to interact with the API correctly.\n",
    "\n",
    ">In building a Flask API, an API specification helps by providing clear guidelines for designing endpoints, standardizing input/output formats (like JSON), and defining error handling. It improves development efficiency, facilitates communication between frontend and backend teams, and supports automated testing and documentation generation. Essentially, an API specification ensures your Flask API is consistent, predictable, and easier to maintain."
   ]
  },
  {
   "cell_type": "markdown",
   "id": "bba69c85",
   "metadata": {},
   "source": [
    "19.What are HTTP status codes, and why are they important in a Flask API?\n",
    ">HTTP status codes are standardized numerical codes sent by a server in response to a client’s HTTP request. They indicate the result of the request—whether it was successful, if there was an error, or if further action is needed.\n",
    "\n",
    ">In a Flask API, status codes are important because they communicate the outcome of API calls clearly to clients. For example, 200 means success, 201 means a resource was created, 400 indicates a bad request from the client, and 404 means the requested resource wasn’t found. Using appropriate status codes helps clients handle responses correctly, improves debugging, and makes your API more reliable and user-friendly"
   ]
  },
  {
   "cell_type": "markdown",
   "id": "2dfc21fa",
   "metadata": {},
   "source": [
    "20.How do you handle POST requests in Flask?\n",
    ">To handle POST requests in Flask, you define a route using the @app.route() decorator and specify the methods=['POST'] argument. Inside the view function, you use Flask’s request object to access the data sent by the client (form data, JSON, etc.)."
   ]
  },
  {
   "cell_type": "markdown",
   "id": "6add0be7",
   "metadata": {},
   "source": [
    "21.How would you secure a Flask API?\n",
    ">1. Authentication and Authorization:Use mechanisms like API keys, OAuth, or JWT (JSON Web Tokens) to ensure that only authenticated users can access protected endpoints. Authorization ensures users only access resources they’re allowed to.\n",
    "\n",
    ">2. Input Validation and Sanitization:Always validate and sanitize incoming data using libraries like marshmallow or built-in checks to prevent SQL injection, XSS, and other attacks.\n",
    "\n",
    ">3. HTTPS:Serve your API over HTTPS to encrypt data in transit and prevent man-in-the-middle (MITM) attacks.\n",
    "\n",
    ">4. Rate Limiting:Use tools like Flask-Limiter to restrict the number of requests from a client, protecting against abuse and denial-of-service (DoS) attacks.\n",
    "\n",
    ">5. Error Handling:Avoid exposing sensitive server information in error messages. Return generic error messages with appropriate HTTP status codes.\n",
    "\n",
    ">6. CORS Configuration:Use Flask-CORS to control which domains are allowed to access your API, especially for browser-based apps.\n",
    "\n",
    ">7. Secure Headers:Add HTTP security headers using packages like Flask-Talisman to protect against common web vulnerabilities"
   ]
  },
  {
   "cell_type": "markdown",
   "id": "bfc4145d",
   "metadata": {},
   "source": [
    "22.What is the significance of the Flask-RESTful extension?\n",
    ">The Flask-RESTful extension is significant because it streamlines the development of RESTful APIs in Flask by providing a more organized and modular structure. Instead of defining routes using decorators, developers can define resources as Python classes, with each HTTP method (like GET, POST, PUT, DELETE) implemented as a method within the class. This leads to cleaner, more maintainable code, especially for large applications. Flask-RESTful also includes features like automatic input parsing and validation using reqparse, as well as consistent error handling. Overall, it encourages best practices in REST API design and simplifies many of the repetitive tasks involved in API development with Flask."
   ]
  },
  {
   "cell_type": "markdown",
   "id": "f72ad05d",
   "metadata": {},
   "source": [
    "23.What is the role of Flask’s session object??\n",
    ">Flask’s session object is used to store data that persists across multiple requests from the same user during a browsing session. It allows you to save user-specific information, like login status or preferences, between different pages without requiring a database for temporary data.\n",
    "\n",
    ">The data in the session is stored on the client side in a securely signed cookie, ensuring that it can’t be tampered with (as long as the SECRET_KEY is set). Flask automatically handles serialization and security, making it convenient for managing user sessions in web applications."
   ]
  }
 ],
 "metadata": {
  "kernelspec": {
   "display_name": "base",
   "language": "python",
   "name": "python3"
  },
  "language_info": {
   "name": "python",
   "version": "3.12.4"
  }
 },
 "nbformat": 4,
 "nbformat_minor": 5
}
